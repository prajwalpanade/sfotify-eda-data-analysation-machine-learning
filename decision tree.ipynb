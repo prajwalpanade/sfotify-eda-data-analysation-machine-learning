{
 "cells": [
  {
   "cell_type": "code",
   "execution_count": 1,
   "metadata": {},
   "outputs": [
    {
     "name": "stdout",
     "output_type": "stream",
     "text": [
      "Requirement already satisfied: graphviz in c:\\users\\prajwal\\anaconda3\\lib\\site-packages (0.14)\n",
      "Note: you may need to restart the kernel to use updated packages.\n"
     ]
    }
   ],
   "source": [
    "pip install graphviz"
   ]
  },
  {
   "cell_type": "code",
   "execution_count": 2,
   "metadata": {},
   "outputs": [
    {
     "name": "stdout",
     "output_type": "stream",
     "text": [
      "Requirement already satisfied: pydotplus in c:\\users\\prajwal\\anaconda3\\lib\\site-packages (2.0.2)\n",
      "Requirement already satisfied: pyparsing>=2.0.1 in c:\\users\\prajwal\\anaconda3\\lib\\site-packages (from pydotplus) (2.4.6)\n",
      "Note: you may need to restart the kernel to use updated packages.\n"
     ]
    }
   ],
   "source": [
    "pip install pydotplus"
   ]
  },
  {
   "cell_type": "code",
   "execution_count": 3,
   "metadata": {},
   "outputs": [],
   "source": [
    "import numpy as np\n",
    "import pandas as pd\n",
    "import matplotlib.pyplot as plt\n",
    "%matplotlib inline\n",
    "import random\n",
    "from pprint import pprint\n",
    "from sklearn import tree\n",
    "from sklearn.tree import DecisionTreeClassifier,export_graphviz\n",
    "from sklearn.model_selection import train_test_split\n",
    "\n",
    "import graphviz\n",
    "import pydotplus\n",
    "import io\n",
    "from scipy import misc"
   ]
  },
  {
   "cell_type": "code",
   "execution_count": 4,
   "metadata": {},
   "outputs": [],
   "source": [
    "data=pd.read_csv('data.csv')"
   ]
  },
  {
   "cell_type": "code",
   "execution_count": 5,
   "metadata": {},
   "outputs": [
    {
     "data": {
      "text/html": [
       "<div>\n",
       "<style scoped>\n",
       "    .dataframe tbody tr th:only-of-type {\n",
       "        vertical-align: middle;\n",
       "    }\n",
       "\n",
       "    .dataframe tbody tr th {\n",
       "        vertical-align: top;\n",
       "    }\n",
       "\n",
       "    .dataframe thead th {\n",
       "        text-align: right;\n",
       "    }\n",
       "</style>\n",
       "<table border=\"1\" class=\"dataframe\">\n",
       "  <thead>\n",
       "    <tr style=\"text-align: right;\">\n",
       "      <th></th>\n",
       "      <th>Unnamed: 0</th>\n",
       "      <th>acousticness</th>\n",
       "      <th>danceability</th>\n",
       "      <th>duration_ms</th>\n",
       "      <th>energy</th>\n",
       "      <th>instrumentalness</th>\n",
       "      <th>key</th>\n",
       "      <th>liveness</th>\n",
       "      <th>loudness</th>\n",
       "      <th>mode</th>\n",
       "      <th>speechiness</th>\n",
       "      <th>tempo</th>\n",
       "      <th>time_signature</th>\n",
       "      <th>valence</th>\n",
       "      <th>target</th>\n",
       "      <th>song_title</th>\n",
       "      <th>artist</th>\n",
       "    </tr>\n",
       "  </thead>\n",
       "  <tbody>\n",
       "    <tr>\n",
       "      <th>0</th>\n",
       "      <td>0</td>\n",
       "      <td>0.0102</td>\n",
       "      <td>0.833</td>\n",
       "      <td>204600</td>\n",
       "      <td>0.434</td>\n",
       "      <td>0.021900</td>\n",
       "      <td>2</td>\n",
       "      <td>0.1650</td>\n",
       "      <td>-8.795</td>\n",
       "      <td>1</td>\n",
       "      <td>0.4310</td>\n",
       "      <td>150.062</td>\n",
       "      <td>4.0</td>\n",
       "      <td>0.286</td>\n",
       "      <td>1</td>\n",
       "      <td>Mask Off</td>\n",
       "      <td>Future</td>\n",
       "    </tr>\n",
       "    <tr>\n",
       "      <th>1</th>\n",
       "      <td>1</td>\n",
       "      <td>0.1990</td>\n",
       "      <td>0.743</td>\n",
       "      <td>326933</td>\n",
       "      <td>0.359</td>\n",
       "      <td>0.006110</td>\n",
       "      <td>1</td>\n",
       "      <td>0.1370</td>\n",
       "      <td>-10.401</td>\n",
       "      <td>1</td>\n",
       "      <td>0.0794</td>\n",
       "      <td>160.083</td>\n",
       "      <td>4.0</td>\n",
       "      <td>0.588</td>\n",
       "      <td>1</td>\n",
       "      <td>Redbone</td>\n",
       "      <td>Childish Gambino</td>\n",
       "    </tr>\n",
       "    <tr>\n",
       "      <th>2</th>\n",
       "      <td>2</td>\n",
       "      <td>0.0344</td>\n",
       "      <td>0.838</td>\n",
       "      <td>185707</td>\n",
       "      <td>0.412</td>\n",
       "      <td>0.000234</td>\n",
       "      <td>2</td>\n",
       "      <td>0.1590</td>\n",
       "      <td>-7.148</td>\n",
       "      <td>1</td>\n",
       "      <td>0.2890</td>\n",
       "      <td>75.044</td>\n",
       "      <td>4.0</td>\n",
       "      <td>0.173</td>\n",
       "      <td>1</td>\n",
       "      <td>Xanny Family</td>\n",
       "      <td>Future</td>\n",
       "    </tr>\n",
       "    <tr>\n",
       "      <th>3</th>\n",
       "      <td>3</td>\n",
       "      <td>0.6040</td>\n",
       "      <td>0.494</td>\n",
       "      <td>199413</td>\n",
       "      <td>0.338</td>\n",
       "      <td>0.510000</td>\n",
       "      <td>5</td>\n",
       "      <td>0.0922</td>\n",
       "      <td>-15.236</td>\n",
       "      <td>1</td>\n",
       "      <td>0.0261</td>\n",
       "      <td>86.468</td>\n",
       "      <td>4.0</td>\n",
       "      <td>0.230</td>\n",
       "      <td>1</td>\n",
       "      <td>Master Of None</td>\n",
       "      <td>Beach House</td>\n",
       "    </tr>\n",
       "    <tr>\n",
       "      <th>4</th>\n",
       "      <td>4</td>\n",
       "      <td>0.1800</td>\n",
       "      <td>0.678</td>\n",
       "      <td>392893</td>\n",
       "      <td>0.561</td>\n",
       "      <td>0.512000</td>\n",
       "      <td>5</td>\n",
       "      <td>0.4390</td>\n",
       "      <td>-11.648</td>\n",
       "      <td>0</td>\n",
       "      <td>0.0694</td>\n",
       "      <td>174.004</td>\n",
       "      <td>4.0</td>\n",
       "      <td>0.904</td>\n",
       "      <td>1</td>\n",
       "      <td>Parallel Lines</td>\n",
       "      <td>Junior Boys</td>\n",
       "    </tr>\n",
       "  </tbody>\n",
       "</table>\n",
       "</div>"
      ],
      "text/plain": [
       "   Unnamed: 0  acousticness  danceability  duration_ms  energy  \\\n",
       "0           0        0.0102         0.833       204600   0.434   \n",
       "1           1        0.1990         0.743       326933   0.359   \n",
       "2           2        0.0344         0.838       185707   0.412   \n",
       "3           3        0.6040         0.494       199413   0.338   \n",
       "4           4        0.1800         0.678       392893   0.561   \n",
       "\n",
       "   instrumentalness  key  liveness  loudness  mode  speechiness    tempo  \\\n",
       "0          0.021900    2    0.1650    -8.795     1       0.4310  150.062   \n",
       "1          0.006110    1    0.1370   -10.401     1       0.0794  160.083   \n",
       "2          0.000234    2    0.1590    -7.148     1       0.2890   75.044   \n",
       "3          0.510000    5    0.0922   -15.236     1       0.0261   86.468   \n",
       "4          0.512000    5    0.4390   -11.648     0       0.0694  174.004   \n",
       "\n",
       "   time_signature  valence  target      song_title            artist  \n",
       "0             4.0    0.286       1        Mask Off            Future  \n",
       "1             4.0    0.588       1         Redbone  Childish Gambino  \n",
       "2             4.0    0.173       1    Xanny Family            Future  \n",
       "3             4.0    0.230       1  Master Of None       Beach House  \n",
       "4             4.0    0.904       1  Parallel Lines       Junior Boys  "
      ]
     },
     "execution_count": 5,
     "metadata": {},
     "output_type": "execute_result"
    }
   ],
   "source": [
    "data.head()"
   ]
  },
  {
   "cell_type": "code",
   "execution_count": 6,
   "metadata": {},
   "outputs": [
    {
     "data": {
      "text/html": [
       "<div>\n",
       "<style scoped>\n",
       "    .dataframe tbody tr th:only-of-type {\n",
       "        vertical-align: middle;\n",
       "    }\n",
       "\n",
       "    .dataframe tbody tr th {\n",
       "        vertical-align: top;\n",
       "    }\n",
       "\n",
       "    .dataframe thead th {\n",
       "        text-align: right;\n",
       "    }\n",
       "</style>\n",
       "<table border=\"1\" class=\"dataframe\">\n",
       "  <thead>\n",
       "    <tr style=\"text-align: right;\">\n",
       "      <th></th>\n",
       "      <th>Unnamed: 0</th>\n",
       "      <th>acousticness</th>\n",
       "      <th>danceability</th>\n",
       "      <th>duration_ms</th>\n",
       "      <th>energy</th>\n",
       "      <th>instrumentalness</th>\n",
       "      <th>key</th>\n",
       "      <th>liveness</th>\n",
       "      <th>loudness</th>\n",
       "      <th>mode</th>\n",
       "      <th>speechiness</th>\n",
       "      <th>tempo</th>\n",
       "      <th>time_signature</th>\n",
       "      <th>valence</th>\n",
       "      <th>target</th>\n",
       "    </tr>\n",
       "  </thead>\n",
       "  <tbody>\n",
       "    <tr>\n",
       "      <th>count</th>\n",
       "      <td>2017.000000</td>\n",
       "      <td>2017.000000</td>\n",
       "      <td>2017.000000</td>\n",
       "      <td>2.017000e+03</td>\n",
       "      <td>2017.000000</td>\n",
       "      <td>2017.000000</td>\n",
       "      <td>2017.000000</td>\n",
       "      <td>2017.000000</td>\n",
       "      <td>2017.000000</td>\n",
       "      <td>2017.000000</td>\n",
       "      <td>2017.000000</td>\n",
       "      <td>2017.000000</td>\n",
       "      <td>2017.000000</td>\n",
       "      <td>2017.000000</td>\n",
       "      <td>2017.000000</td>\n",
       "    </tr>\n",
       "    <tr>\n",
       "      <th>mean</th>\n",
       "      <td>1008.000000</td>\n",
       "      <td>0.187590</td>\n",
       "      <td>0.618422</td>\n",
       "      <td>2.463062e+05</td>\n",
       "      <td>0.681577</td>\n",
       "      <td>0.133286</td>\n",
       "      <td>5.342588</td>\n",
       "      <td>0.190844</td>\n",
       "      <td>-7.085624</td>\n",
       "      <td>0.612295</td>\n",
       "      <td>0.092664</td>\n",
       "      <td>121.603272</td>\n",
       "      <td>3.968270</td>\n",
       "      <td>0.496815</td>\n",
       "      <td>0.505702</td>\n",
       "    </tr>\n",
       "    <tr>\n",
       "      <th>std</th>\n",
       "      <td>582.402066</td>\n",
       "      <td>0.259989</td>\n",
       "      <td>0.161029</td>\n",
       "      <td>8.198181e+04</td>\n",
       "      <td>0.210273</td>\n",
       "      <td>0.273162</td>\n",
       "      <td>3.648240</td>\n",
       "      <td>0.155453</td>\n",
       "      <td>3.761684</td>\n",
       "      <td>0.487347</td>\n",
       "      <td>0.089931</td>\n",
       "      <td>26.685604</td>\n",
       "      <td>0.255853</td>\n",
       "      <td>0.247195</td>\n",
       "      <td>0.500091</td>\n",
       "    </tr>\n",
       "    <tr>\n",
       "      <th>min</th>\n",
       "      <td>0.000000</td>\n",
       "      <td>0.000003</td>\n",
       "      <td>0.122000</td>\n",
       "      <td>1.604200e+04</td>\n",
       "      <td>0.014800</td>\n",
       "      <td>0.000000</td>\n",
       "      <td>0.000000</td>\n",
       "      <td>0.018800</td>\n",
       "      <td>-33.097000</td>\n",
       "      <td>0.000000</td>\n",
       "      <td>0.023100</td>\n",
       "      <td>47.859000</td>\n",
       "      <td>1.000000</td>\n",
       "      <td>0.034800</td>\n",
       "      <td>0.000000</td>\n",
       "    </tr>\n",
       "    <tr>\n",
       "      <th>25%</th>\n",
       "      <td>504.000000</td>\n",
       "      <td>0.009630</td>\n",
       "      <td>0.514000</td>\n",
       "      <td>2.000150e+05</td>\n",
       "      <td>0.563000</td>\n",
       "      <td>0.000000</td>\n",
       "      <td>2.000000</td>\n",
       "      <td>0.092300</td>\n",
       "      <td>-8.394000</td>\n",
       "      <td>0.000000</td>\n",
       "      <td>0.037500</td>\n",
       "      <td>100.189000</td>\n",
       "      <td>4.000000</td>\n",
       "      <td>0.295000</td>\n",
       "      <td>0.000000</td>\n",
       "    </tr>\n",
       "    <tr>\n",
       "      <th>50%</th>\n",
       "      <td>1008.000000</td>\n",
       "      <td>0.063300</td>\n",
       "      <td>0.631000</td>\n",
       "      <td>2.292610e+05</td>\n",
       "      <td>0.715000</td>\n",
       "      <td>0.000076</td>\n",
       "      <td>6.000000</td>\n",
       "      <td>0.127000</td>\n",
       "      <td>-6.248000</td>\n",
       "      <td>1.000000</td>\n",
       "      <td>0.054900</td>\n",
       "      <td>121.427000</td>\n",
       "      <td>4.000000</td>\n",
       "      <td>0.492000</td>\n",
       "      <td>1.000000</td>\n",
       "    </tr>\n",
       "    <tr>\n",
       "      <th>75%</th>\n",
       "      <td>1512.000000</td>\n",
       "      <td>0.265000</td>\n",
       "      <td>0.738000</td>\n",
       "      <td>2.703330e+05</td>\n",
       "      <td>0.846000</td>\n",
       "      <td>0.054000</td>\n",
       "      <td>9.000000</td>\n",
       "      <td>0.247000</td>\n",
       "      <td>-4.746000</td>\n",
       "      <td>1.000000</td>\n",
       "      <td>0.108000</td>\n",
       "      <td>137.849000</td>\n",
       "      <td>4.000000</td>\n",
       "      <td>0.691000</td>\n",
       "      <td>1.000000</td>\n",
       "    </tr>\n",
       "    <tr>\n",
       "      <th>max</th>\n",
       "      <td>2016.000000</td>\n",
       "      <td>0.995000</td>\n",
       "      <td>0.984000</td>\n",
       "      <td>1.004627e+06</td>\n",
       "      <td>0.998000</td>\n",
       "      <td>0.976000</td>\n",
       "      <td>11.000000</td>\n",
       "      <td>0.969000</td>\n",
       "      <td>-0.307000</td>\n",
       "      <td>1.000000</td>\n",
       "      <td>0.816000</td>\n",
       "      <td>219.331000</td>\n",
       "      <td>5.000000</td>\n",
       "      <td>0.992000</td>\n",
       "      <td>1.000000</td>\n",
       "    </tr>\n",
       "  </tbody>\n",
       "</table>\n",
       "</div>"
      ],
      "text/plain": [
       "        Unnamed: 0  acousticness  danceability   duration_ms       energy  \\\n",
       "count  2017.000000   2017.000000   2017.000000  2.017000e+03  2017.000000   \n",
       "mean   1008.000000      0.187590      0.618422  2.463062e+05     0.681577   \n",
       "std     582.402066      0.259989      0.161029  8.198181e+04     0.210273   \n",
       "min       0.000000      0.000003      0.122000  1.604200e+04     0.014800   \n",
       "25%     504.000000      0.009630      0.514000  2.000150e+05     0.563000   \n",
       "50%    1008.000000      0.063300      0.631000  2.292610e+05     0.715000   \n",
       "75%    1512.000000      0.265000      0.738000  2.703330e+05     0.846000   \n",
       "max    2016.000000      0.995000      0.984000  1.004627e+06     0.998000   \n",
       "\n",
       "       instrumentalness          key     liveness     loudness         mode  \\\n",
       "count       2017.000000  2017.000000  2017.000000  2017.000000  2017.000000   \n",
       "mean           0.133286     5.342588     0.190844    -7.085624     0.612295   \n",
       "std            0.273162     3.648240     0.155453     3.761684     0.487347   \n",
       "min            0.000000     0.000000     0.018800   -33.097000     0.000000   \n",
       "25%            0.000000     2.000000     0.092300    -8.394000     0.000000   \n",
       "50%            0.000076     6.000000     0.127000    -6.248000     1.000000   \n",
       "75%            0.054000     9.000000     0.247000    -4.746000     1.000000   \n",
       "max            0.976000    11.000000     0.969000    -0.307000     1.000000   \n",
       "\n",
       "       speechiness        tempo  time_signature      valence       target  \n",
       "count  2017.000000  2017.000000     2017.000000  2017.000000  2017.000000  \n",
       "mean      0.092664   121.603272        3.968270     0.496815     0.505702  \n",
       "std       0.089931    26.685604        0.255853     0.247195     0.500091  \n",
       "min       0.023100    47.859000        1.000000     0.034800     0.000000  \n",
       "25%       0.037500   100.189000        4.000000     0.295000     0.000000  \n",
       "50%       0.054900   121.427000        4.000000     0.492000     1.000000  \n",
       "75%       0.108000   137.849000        4.000000     0.691000     1.000000  \n",
       "max       0.816000   219.331000        5.000000     0.992000     1.000000  "
      ]
     },
     "execution_count": 6,
     "metadata": {},
     "output_type": "execute_result"
    }
   ],
   "source": [
    "data.describe()"
   ]
  },
  {
   "cell_type": "code",
   "execution_count": 7,
   "metadata": {},
   "outputs": [
    {
     "name": "stdout",
     "output_type": "stream",
     "text": [
      "<class 'pandas.core.frame.DataFrame'>\n",
      "RangeIndex: 2017 entries, 0 to 2016\n",
      "Data columns (total 17 columns):\n",
      " #   Column            Non-Null Count  Dtype  \n",
      "---  ------            --------------  -----  \n",
      " 0   Unnamed: 0        2017 non-null   int64  \n",
      " 1   acousticness      2017 non-null   float64\n",
      " 2   danceability      2017 non-null   float64\n",
      " 3   duration_ms       2017 non-null   int64  \n",
      " 4   energy            2017 non-null   float64\n",
      " 5   instrumentalness  2017 non-null   float64\n",
      " 6   key               2017 non-null   int64  \n",
      " 7   liveness          2017 non-null   float64\n",
      " 8   loudness          2017 non-null   float64\n",
      " 9   mode              2017 non-null   int64  \n",
      " 10  speechiness       2017 non-null   float64\n",
      " 11  tempo             2017 non-null   float64\n",
      " 12  time_signature    2017 non-null   float64\n",
      " 13  valence           2017 non-null   float64\n",
      " 14  target            2017 non-null   int64  \n",
      " 15  song_title        2017 non-null   object \n",
      " 16  artist            2017 non-null   object \n",
      "dtypes: float64(10), int64(5), object(2)\n",
      "memory usage: 268.0+ KB\n"
     ]
    }
   ],
   "source": [
    "data.info()"
   ]
  },
  {
   "cell_type": "code",
   "execution_count": 8,
   "metadata": {},
   "outputs": [],
   "source": [
    "train , test = train_test_split(data,test_size=0.15)"
   ]
  },
  {
   "cell_type": "code",
   "execution_count": 9,
   "metadata": {},
   "outputs": [
    {
     "name": "stdout",
     "output_type": "stream",
     "text": [
      "Traning size:1714;Test size:303\n"
     ]
    }
   ],
   "source": [
    "print(\"Traning size:{};Test size:{}\".format(len(train),len(test)))"
   ]
  },
  {
   "cell_type": "code",
   "execution_count": 10,
   "metadata": {},
   "outputs": [
    {
     "data": {
      "text/plain": [
       "(1714, 17)"
      ]
     },
     "execution_count": 10,
     "metadata": {},
     "output_type": "execute_result"
    }
   ],
   "source": [
    "train.shape"
   ]
  },
  {
   "cell_type": "code",
   "execution_count": 11,
   "metadata": {},
   "outputs": [
    {
     "data": {
      "text/plain": [
       "<matplotlib.legend.Legend at 0x260b051e588>"
      ]
     },
     "execution_count": 11,
     "metadata": {},
     "output_type": "execute_result"
    },
    {
     "data": {
      "image/png": "[encoded data removed]",
      "text/plain": [
       "<Figure size 864x576 with 1 Axes>"
      ]
     },
     "metadata": {
      "needs_background": "light"
     },
     "output_type": "display_data"
    }
   ],
   "source": [
    "pos_dance=data[data['target']==1]['danceability']\n",
    "neg_dance=data[data['target']==0]['danceability']\n",
    "\n",
    "fig=plt.figure(figsize=(12,8))\n",
    "plt.title(\"like and dislike on danceability\")\n",
    "\n",
    "pos_dance.hist(alpha=0.7,bins=30,label='positive')\n",
    "neg_dance.hist(alpha=0.7,bins=30,label='negative')\n",
    "plt.legend(loc=\"upper right\")"
   ]
  },
  {
   "cell_type": "code",
   "execution_count": 12,
   "metadata": {},
   "outputs": [],
   "source": [
    "p=DecisionTreeClassifier(min_samples_split=100)"
   ]
  },
  {
   "cell_type": "code",
   "execution_count": 13,
   "metadata": {},
   "outputs": [],
   "source": [
    "features=[\"danceability\",\"loudness\",\"valence\",\"energy\",\"instrumentalness\",\"acousticness\",\"key\",\"speechiness\",\"duration_ms\"]"
   ]
  },
  {
   "cell_type": "code",
   "execution_count": 14,
   "metadata": {},
   "outputs": [],
   "source": [
    "x_train=train[features]\n",
    "y_train=train[\"target\"]\n",
    "\n",
    "x_test=test[features]\n",
    "y_test=test[\"target\"]"
   ]
  },
  {
   "cell_type": "code",
   "execution_count": 15,
   "metadata": {},
   "outputs": [],
   "source": [
    "dt=p.fit(x_train,y_train)"
   ]
  },
  {
   "cell_type": "code",
   "execution_count": 16,
   "metadata": {},
   "outputs": [],
   "source": [
    "y_pred=p.predict(x_test)"
   ]
  },
  {
   "cell_type": "code",
   "execution_count": 17,
   "metadata": {},
   "outputs": [
    {
     "data": {
      "text/plain": [
       "array([1, 1, 1, 0, 0, 0, 0, 0, 1, 0, 1, 1, 0, 0, 1, 0, 1, 0, 0, 0, 0, 1,\n",
       "       0, 0, 0, 0, 1, 1, 0, 0, 0, 0, 0, 1, 0, 1, 0, 0, 0, 0, 1, 0, 1, 1,\n",
       "       0, 0, 1, 1, 0, 0, 1, 0, 0, 1, 0, 1, 1, 1, 0, 1, 1, 1, 0, 0, 0, 1,\n",
       "       0, 1, 1, 1, 0, 0, 1, 0, 1, 1, 0, 1, 0, 0, 1, 1, 1, 0, 1, 0, 1, 0,\n",
       "       1, 0, 1, 0, 1, 0, 1, 1, 0, 0, 0, 0, 0, 1, 0, 0, 1, 0, 0, 1, 1, 0,\n",
       "       1, 1, 0, 0, 1, 1, 0, 1, 0, 1, 0, 1, 1, 0, 0, 1, 1, 1, 1, 1, 0, 0,\n",
       "       0, 0, 0, 0, 0, 0, 1, 0, 1, 1, 0, 0, 0, 1, 1, 0, 1, 0, 1, 0, 1, 0,\n",
       "       0, 1, 1, 0, 0, 0, 0, 1, 1, 1, 0, 1, 1, 1, 0, 1, 1, 1, 0, 0, 1, 1,\n",
       "       0, 0, 0, 1, 0, 0, 1, 0, 1, 0, 1, 0, 0, 0, 1, 0, 0, 0, 1, 1, 0, 1,\n",
       "       1, 0, 0, 1, 1, 0, 0, 0, 0, 1, 1, 1, 1, 1, 0, 1, 1, 1, 1, 1, 0, 0,\n",
       "       1, 1, 0, 0, 0, 1, 0, 1, 1, 1, 0, 0, 0, 1, 0, 1, 0, 1, 1, 0, 0, 0,\n",
       "       1, 0, 0, 1, 1, 0, 1, 1, 1, 0, 0, 1, 1, 0, 1, 0, 1, 1, 0, 0, 1, 1,\n",
       "       1, 1, 0, 0, 0, 1, 1, 0, 0, 0, 0, 0, 1, 0, 1, 0, 1, 1, 0, 1, 0, 0,\n",
       "       0, 0, 1, 1, 1, 0, 0, 0, 0, 1, 0, 1, 0, 0, 1, 0, 0], dtype=int64)"
      ]
     },
     "execution_count": 17,
     "metadata": {},
     "output_type": "execute_result"
    }
   ],
   "source": [
    "y_pred"
   ]
  },
  {
   "cell_type": "code",
   "execution_count": 18,
   "metadata": {},
   "outputs": [],
   "source": [
    "from sklearn.metrics import accuracy_score\n",
    "score= accuracy_score(y_test,y_pred)*100"
   ]
  },
  {
   "cell_type": "code",
   "execution_count": 19,
   "metadata": {},
   "outputs": [
    {
     "name": "stdout",
     "output_type": "stream",
     "text": [
      "Accuracy is:-  72.9 %\n"
     ]
    }
   ],
   "source": [
    "print(\"Accuracy is:- \", round(score,1),\"%\")"
   ]
  },
  {
   "cell_type": "code",
   "execution_count": 20,
   "metadata": {},
   "outputs": [
    {
     "data": {
      "text/plain": [
       "[Text(172.98, 208.38, 'X[4] <= 0.0\\ngini = 0.5\\nsamples = 1714\\nvalue = [835, 879]'),\n",
       " Text(100.44, 190.26, 'X[7] <= 0.125\\ngini = 0.465\\nsamples = 833\\nvalue = [527, 306]'),\n",
       " Text(55.8, 172.14, 'X[0] <= 0.713\\ngini = 0.39\\nsamples = 610\\nvalue = [448, 162]'),\n",
       " Text(22.32, 154.01999999999998, 'X[8] <= 163780.0\\ngini = 0.325\\nsamples = 441\\nvalue = [351, 90]'),\n",
       " Text(11.16, 135.89999999999998, 'gini = 0.498\\nsamples = 32\\nvalue = [15, 17]'),\n",
       " Text(33.480000000000004, 135.89999999999998, 'X[1] <= -9.156\\ngini = 0.293\\nsamples = 409\\nvalue = [336, 73]'),\n",
       " Text(22.32, 117.77999999999999, 'gini = 0.49\\nsamples = 35\\nvalue = [20, 15]'),\n",
       " Text(44.64, 117.77999999999999, 'X[2] <= 0.799\\ngini = 0.262\\nsamples = 374\\nvalue = [316, 58]'),\n",
       " Text(33.480000000000004, 99.66, 'X[4] <= 0.0\\ngini = 0.237\\nsamples = 349\\nvalue = [301, 48]'),\n",
       " Text(22.32, 81.53999999999999, 'X[5] <= 0.018\\ngini = 0.185\\nsamples = 290\\nvalue = [260, 30]'),\n",
       " Text(11.16, 63.41999999999999, 'gini = 0.361\\nsamples = 76\\nvalue = [58, 18]'),\n",
       " Text(33.480000000000004, 63.41999999999999, 'X[0] <= 0.372\\ngini = 0.106\\nsamples = 214\\nvalue = [202, 12]'),\n",
       " Text(22.32, 45.29999999999998, 'gini = 0.375\\nsamples = 16\\nvalue = [12, 4]'),\n",
       " Text(44.64, 45.29999999999998, 'X[6] <= 10.5\\ngini = 0.078\\nsamples = 198\\nvalue = [190, 8]'),\n",
       " Text(33.480000000000004, 27.17999999999998, 'X[0] <= 0.615\\ngini = 0.054\\nsamples = 180\\nvalue = [175, 5]'),\n",
       " Text(22.32, 9.059999999999974, 'gini = 0.0\\nsamples = 109\\nvalue = [109, 0]'),\n",
       " Text(44.64, 9.059999999999974, 'gini = 0.131\\nsamples = 71\\nvalue = [66, 5]'),\n",
       " Text(55.8, 27.17999999999998, 'gini = 0.278\\nsamples = 18\\nvalue = [15, 3]'),\n",
       " Text(44.64, 81.53999999999999, 'gini = 0.424\\nsamples = 59\\nvalue = [41, 18]'),\n",
       " Text(55.8, 99.66, 'gini = 0.48\\nsamples = 25\\nvalue = [15, 10]'),\n",
       " Text(89.28, 154.01999999999998, 'X[2] <= 0.451\\ngini = 0.489\\nsamples = 169\\nvalue = [97, 72]'),\n",
       " Text(78.12, 135.89999999999998, 'gini = 0.34\\nsamples = 46\\nvalue = [10, 36]'),\n",
       " Text(100.44, 135.89999999999998, 'X[8] <= 298326.5\\ngini = 0.414\\nsamples = 123\\nvalue = [87, 36]'),\n",
       " Text(89.28, 117.77999999999999, 'X[5] <= 0.048\\ngini = 0.395\\nsamples = 118\\nvalue = [86, 32]'),\n",
       " Text(78.12, 99.66, 'gini = 0.484\\nsamples = 39\\nvalue = [23, 16]'),\n",
       " Text(100.44, 99.66, 'gini = 0.323\\nsamples = 79\\nvalue = [63, 16]'),\n",
       " Text(111.6, 117.77999999999999, 'gini = 0.32\\nsamples = 5\\nvalue = [1, 4]'),\n",
       " Text(145.08, 172.14, 'X[0] <= 0.733\\ngini = 0.458\\nsamples = 223\\nvalue = [79, 144]'),\n",
       " Text(133.92000000000002, 154.01999999999998, 'X[5] <= 0.015\\ngini = 0.498\\nsamples = 145\\nvalue = [68, 77]'),\n",
       " Text(122.76, 135.89999999999998, 'gini = 0.33\\nsamples = 24\\nvalue = [19, 5]'),\n",
       " Text(145.08, 135.89999999999998, 'X[1] <= -6.587\\ngini = 0.482\\nsamples = 121\\nvalue = [49, 72]'),\n",
       " Text(133.92000000000002, 117.77999999999999, 'gini = 0.387\\nsamples = 42\\nvalue = [11, 31]'),\n",
       " Text(156.24, 117.77999999999999, 'gini = 0.499\\nsamples = 79\\nvalue = [38, 41]'),\n",
       " Text(156.24, 154.01999999999998, 'gini = 0.242\\nsamples = 78\\nvalue = [11, 67]'),\n",
       " Text(245.52, 190.26, 'X[3] <= 0.198\\ngini = 0.455\\nsamples = 881\\nvalue = [308, 573]'),\n",
       " Text(234.36, 172.14, 'gini = 0.098\\nsamples = 58\\nvalue = [55, 3]'),\n",
       " Text(256.68, 172.14, 'X[1] <= -5.732\\ngini = 0.426\\nsamples = 823\\nvalue = [253, 570]'),\n",
       " Text(223.2, 154.01999999999998, 'X[4] <= 0.008\\ngini = 0.32\\nsamples = 544\\nvalue = [109, 435]'),\n",
       " Text(189.72, 135.89999999999998, 'X[7] <= 0.035\\ngini = 0.435\\nsamples = 188\\nvalue = [60, 128]'),\n",
       " Text(178.56, 117.77999999999999, 'gini = 0.495\\nsamples = 49\\nvalue = [27, 22]'),\n",
       " Text(200.88, 117.77999999999999, 'X[1] <= -7.002\\ngini = 0.362\\nsamples = 139\\nvalue = [33, 106]'),\n",
       " Text(189.72, 99.66, 'gini = 0.257\\nsamples = 86\\nvalue = [13, 73]'),\n",
       " Text(212.04, 99.66, 'gini = 0.47\\nsamples = 53\\nvalue = [20, 33]'),\n",
       " Text(256.68, 135.89999999999998, 'X[5] <= 0.856\\ngini = 0.237\\nsamples = 356\\nvalue = [49, 307]'),\n",
       " Text(245.52, 117.77999999999999, 'X[0] <= 0.265\\ngini = 0.2\\nsamples = 337\\nvalue = [38, 299]'),\n",
       " Text(234.36, 99.66, 'gini = 0.5\\nsamples = 12\\nvalue = [6, 6]'),\n",
       " Text(256.68, 99.66, 'X[8] <= 251694.0\\ngini = 0.178\\nsamples = 325\\nvalue = [32, 293]'),\n",
       " Text(234.36, 81.53999999999999, 'X[3] <= 0.86\\ngini = 0.279\\nsamples = 131\\nvalue = [22, 109]'),\n",
       " Text(223.2, 63.41999999999999, 'X[2] <= 0.951\\ngini = 0.232\\nsamples = 112\\nvalue = [15, 97]'),\n",
       " Text(212.04, 45.29999999999998, 'X[7] <= 0.029\\ngini = 0.21\\nsamples = 109\\nvalue = [13, 96]'),\n",
       " Text(200.88, 27.17999999999998, 'gini = 0.49\\nsamples = 7\\nvalue = [3, 4]'),\n",
       " Text(223.2, 27.17999999999998, 'X[2] <= 0.325\\ngini = 0.177\\nsamples = 102\\nvalue = [10, 92]'),\n",
       " Text(212.04, 9.059999999999974, 'gini = 0.342\\nsamples = 32\\nvalue = [7, 25]'),\n",
       " Text(234.36, 9.059999999999974, 'gini = 0.082\\nsamples = 70\\nvalue = [3, 67]'),\n",
       " Text(234.36, 45.29999999999998, 'gini = 0.444\\nsamples = 3\\nvalue = [2, 1]'),\n",
       " Text(245.52, 63.41999999999999, 'gini = 0.465\\nsamples = 19\\nvalue = [7, 12]'),\n",
       " Text(279.0, 81.53999999999999, 'X[2] <= 0.209\\ngini = 0.098\\nsamples = 194\\nvalue = [10, 184]'),\n",
       " Text(267.84000000000003, 63.41999999999999, 'gini = 0.245\\nsamples = 35\\nvalue = [5, 30]'),\n",
       " Text(290.16, 63.41999999999999, 'X[4] <= 0.011\\ngini = 0.061\\nsamples = 159\\nvalue = [5, 154]'),\n",
       " Text(279.0, 45.29999999999998, 'gini = 0.444\\nsamples = 3\\nvalue = [1, 2]'),\n",
       " Text(301.32, 45.29999999999998, 'X[5] <= 0.3\\ngini = 0.05\\nsamples = 156\\nvalue = [4, 152]'),\n",
       " Text(290.16, 27.17999999999998, 'X[6] <= 0.5\\ngini = 0.028\\nsamples = 139\\nvalue = [2, 137]'),\n",
       " Text(279.0, 9.059999999999974, 'gini = 0.219\\nsamples = 16\\nvalue = [2, 14]'),\n",
       " Text(301.32, 9.059999999999974, 'gini = 0.0\\nsamples = 123\\nvalue = [0, 123]'),\n",
       " Text(312.48, 27.17999999999998, 'gini = 0.208\\nsamples = 17\\nvalue = [2, 15]'),\n",
       " Text(267.84000000000003, 117.77999999999999, 'gini = 0.488\\nsamples = 19\\nvalue = [11, 8]'),\n",
       " Text(290.16, 154.01999999999998, 'X[2] <= 0.281\\ngini = 0.499\\nsamples = 279\\nvalue = [144, 135]'),\n",
       " Text(279.0, 135.89999999999998, 'gini = 0.358\\nsamples = 77\\nvalue = [59, 18]'),\n",
       " Text(301.32, 135.89999999999998, 'X[8] <= 212246.0\\ngini = 0.487\\nsamples = 202\\nvalue = [85, 117]'),\n",
       " Text(290.16, 117.77999999999999, 'gini = 0.48\\nsamples = 85\\nvalue = [51, 34]'),\n",
       " Text(312.48, 117.77999999999999, 'X[7] <= 0.065\\ngini = 0.412\\nsamples = 117\\nvalue = [34, 83]'),\n",
       " Text(301.32, 99.66, 'gini = 0.309\\nsamples = 68\\nvalue = [13, 55]'),\n",
       " Text(323.64, 99.66, 'gini = 0.49\\nsamples = 49\\nvalue = [21, 28]')]"
      ]
     },
     "execution_count": 20,
     "metadata": {},
     "output_type": "execute_result"
    },
    {
     "data": {
      "image/png": "[encoded data removed]",
      "text/plain": [
       "<Figure size 432x288 with 1 Axes>"
      ]
     },
     "metadata": {
      "needs_background": "light"
     },
     "output_type": "display_data"
    }
   ],
   "source": [
    "tree.plot_tree(dt)"
   ]
  },
  {
   "cell_type": "code",
   "execution_count": null,
   "metadata": {},
   "outputs": [],
   "source": []
  }
 ],
 "metadata": {
  "kernelspec": {
   "display_name": "Python 3",
   "language": "python",
   "name": "python3"
  },
  "language_info": {
   "codemirror_mode": {
    "name": "ipython",
    "version": 3
   },
   "file_extension": ".py",
   "mimetype": "text/x-python",
   "name": "python",
   "nbconvert_exporter": "python",
   "pygments_lexer": "ipython3",
   "version": "3.7.6"
  }
 },
 "nbformat": 4,
 "nbformat_minor": 4
}
